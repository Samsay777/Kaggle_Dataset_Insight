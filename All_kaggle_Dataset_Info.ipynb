{
 "cells": [
  {
   "cell_type": "code",
   "execution_count": 1,
   "metadata": {},
   "outputs": [],
   "source": [
    "import numpy as np\n",
    "import pandas as pd\n",
    "%matplotlib inline\n",
    "import matplotlib.pyplot as plt\n",
    "import os\n",
    "import glob\n",
    "import time"
   ]
  },
  {
   "cell_type": "code",
   "execution_count": 82,
   "metadata": {},
   "outputs": [],
   "source": [
    "import seaborn as sns"
   ]
  },
  {
   "cell_type": "code",
   "execution_count": 80,
   "metadata": {},
   "outputs": [
    {
     "name": "stdout",
     "output_type": "stream",
     "text": [
      "Index(['categories', 'commonFileTypes', 'creatorName', 'creatorUrl',\n",
      "       'creatorUserId', 'currentDatasetVersionId',\n",
      "       'currentDatasetVersionNumber', 'datasetId', 'datasetSize', 'datasetUrl',\n",
      "       'dateUpdated', 'diffType', 'downloadCount', 'forumUrl',\n",
      "       'isCollaborator', 'isDeleted', 'isFailed', 'isFeatured', 'isHidden',\n",
      "       'isPrivate', 'isSuperFeatured', 'licenseName', 'licenseShortName',\n",
      "       'maintainerOrganization', 'overview', 'ownerAvatarUrl', 'ownerName',\n",
      "       'ownerUrl', 'ownerUserId', 'scriptCount', 'scriptsUrl',\n",
      "       'thumbnailImageUrl', 'title', 'topicCount', 'type', 'viewCount',\n",
      "       'voteButton'],\n",
      "      dtype='object')\n"
     ]
    }
   ],
   "source": [
    "df = pd.read_csv('all_kaggle_datasets.csv')\n",
    "print(df.columns)\n",
    "#df.head()"
   ]
  },
  {
   "cell_type": "code",
   "execution_count": 128,
   "metadata": {},
   "outputs": [],
   "source": [
    "#df.title"
   ]
  },
  {
   "cell_type": "code",
   "execution_count": 41,
   "metadata": {},
   "outputs": [],
   "source": [
    "selected_columns = ['commonFileTypes', 'creatorUserId', 'datasetId', 'datasetSize', 'isCollaborator', 'downloadCount', 'ownerUserId', 'ownerName', 'type', 'viewCount', 'voteButton']\n",
    "df = df[selected_columns]"
   ]
  },
  {
   "cell_type": "code",
   "execution_count": 42,
   "metadata": {},
   "outputs": [
    {
     "data": {
      "text/plain": [
       "(13020, 11)"
      ]
     },
     "execution_count": 42,
     "metadata": {},
     "output_type": "execute_result"
    }
   ],
   "source": [
    "df.shape"
   ]
  },
  {
   "cell_type": "code",
   "execution_count": 43,
   "metadata": {},
   "outputs": [],
   "source": [
    "df['file_type'] = df.commonFileTypes.apply(lambda x: x[2:-2]).str.split(',').apply(lambda x: x[0].split(':')[-1].strip()[1:-1])"
   ]
  },
  {
   "cell_type": "code",
   "execution_count": 44,
   "metadata": {},
   "outputs": [
    {
     "data": {
      "text/plain": [
       "(13020, 12)"
      ]
     },
     "execution_count": 44,
     "metadata": {},
     "output_type": "execute_result"
    }
   ],
   "source": [
    "df.shape"
   ]
  },
  {
   "cell_type": "code",
   "execution_count": 45,
   "metadata": {},
   "outputs": [
    {
     "data": {
      "text/plain": [
       "array(['csv', 'other', 'json', 'sqlite', ''], dtype=object)"
      ]
     },
     "execution_count": 45,
     "metadata": {},
     "output_type": "execute_result"
    }
   ],
   "source": [
    "df['file_type'].unique()"
   ]
  },
  {
   "cell_type": "code",
   "execution_count": 46,
   "metadata": {},
   "outputs": [
    {
     "data": {
      "text/plain": [
       "(13020, 12)"
      ]
     },
     "execution_count": 46,
     "metadata": {},
     "output_type": "execute_result"
    }
   ],
   "source": [
    "df.shape"
   ]
  },
  {
   "cell_type": "code",
   "execution_count": 47,
   "metadata": {},
   "outputs": [],
   "source": [
    "# removing the rows with empty file type\n",
    "df = df[~df.file_type.isin([''])]"
   ]
  },
  {
   "cell_type": "code",
   "execution_count": 48,
   "metadata": {},
   "outputs": [
    {
     "data": {
      "text/plain": [
       "(13018, 12)"
      ]
     },
     "execution_count": 48,
     "metadata": {},
     "output_type": "execute_result"
    }
   ],
   "source": [
    "df.shape"
   ]
  },
  {
   "cell_type": "code",
   "execution_count": 49,
   "metadata": {},
   "outputs": [
    {
     "data": {
      "text/plain": [
       "Index(['commonFileTypes', 'creatorUserId', 'datasetId', 'datasetSize',\n",
       "       'isCollaborator', 'downloadCount', 'ownerUserId', 'ownerName', 'type',\n",
       "       'viewCount', 'voteButton', 'file_type'],\n",
       "      dtype='object')"
      ]
     },
     "execution_count": 49,
     "metadata": {},
     "output_type": "execute_result"
    }
   ],
   "source": [
    "df.columns\n"
   ]
  },
  {
   "cell_type": "code",
   "execution_count": 50,
   "metadata": {},
   "outputs": [
    {
     "data": {
      "text/plain": [
       "(13018, 11)"
      ]
     },
     "execution_count": 50,
     "metadata": {},
     "output_type": "execute_result"
    }
   ],
   "source": [
    "df = df.drop('commonFileTypes', axis = 1)\n",
    "df.shape"
   ]
  },
  {
   "cell_type": "code",
   "execution_count": 51,
   "metadata": {},
   "outputs": [
    {
     "data": {
      "text/html": [
       "<div>\n",
       "<style scoped>\n",
       "    .dataframe tbody tr th:only-of-type {\n",
       "        vertical-align: middle;\n",
       "    }\n",
       "\n",
       "    .dataframe tbody tr th {\n",
       "        vertical-align: top;\n",
       "    }\n",
       "\n",
       "    .dataframe thead th {\n",
       "        text-align: right;\n",
       "    }\n",
       "</style>\n",
       "<table border=\"1\" class=\"dataframe\">\n",
       "  <thead>\n",
       "    <tr style=\"text-align: right;\">\n",
       "      <th></th>\n",
       "      <th>creatorUserId</th>\n",
       "      <th>datasetId</th>\n",
       "      <th>datasetSize</th>\n",
       "      <th>isCollaborator</th>\n",
       "      <th>downloadCount</th>\n",
       "      <th>ownerUserId</th>\n",
       "      <th>ownerName</th>\n",
       "      <th>type</th>\n",
       "      <th>viewCount</th>\n",
       "      <th>voteButton</th>\n",
       "      <th>file_type</th>\n",
       "    </tr>\n",
       "  </thead>\n",
       "  <tbody>\n",
       "    <tr>\n",
       "      <th>0</th>\n",
       "      <td>1314380</td>\n",
       "      <td>70947</td>\n",
       "      <td>4043536</td>\n",
       "      <td>False</td>\n",
       "      <td>5506</td>\n",
       "      <td>NaN</td>\n",
       "      <td>Kaggle</td>\n",
       "      <td>fileset</td>\n",
       "      <td>274306</td>\n",
       "      <td>{'totalVotes': 678, 'hasAlreadyVotedUp': False...</td>\n",
       "      <td>csv</td>\n",
       "    </tr>\n",
       "    <tr>\n",
       "      <th>1</th>\n",
       "      <td>459483</td>\n",
       "      <td>83790</td>\n",
       "      <td>968989653</td>\n",
       "      <td>False</td>\n",
       "      <td>7</td>\n",
       "      <td>459483.0</td>\n",
       "      <td>Jason King</td>\n",
       "      <td>fileset</td>\n",
       "      <td>176</td>\n",
       "      <td>{'totalVotes': 2, 'hasAlreadyVotedUp': False, ...</td>\n",
       "      <td>other</td>\n",
       "    </tr>\n",
       "    <tr>\n",
       "      <th>2</th>\n",
       "      <td>1227281</td>\n",
       "      <td>38809</td>\n",
       "      <td>5621145</td>\n",
       "      <td>False</td>\n",
       "      <td>14066</td>\n",
       "      <td>1227281.0</td>\n",
       "      <td>Mehdi Dagdoug</td>\n",
       "      <td>fileset</td>\n",
       "      <td>80770</td>\n",
       "      <td>{'totalVotes': 298, 'hasAlreadyVotedUp': False...</td>\n",
       "      <td>csv</td>\n",
       "    </tr>\n",
       "    <tr>\n",
       "      <th>3</th>\n",
       "      <td>484516</td>\n",
       "      <td>45286</td>\n",
       "      <td>45177047</td>\n",
       "      <td>False</td>\n",
       "      <td>2573</td>\n",
       "      <td>NaN</td>\n",
       "      <td>Center for Policing Equity</td>\n",
       "      <td>fileset</td>\n",
       "      <td>52192</td>\n",
       "      <td>{'totalVotes': 282, 'hasAlreadyVotedUp': False...</td>\n",
       "      <td>other</td>\n",
       "    </tr>\n",
       "    <tr>\n",
       "      <th>4</th>\n",
       "      <td>1914606</td>\n",
       "      <td>28335</td>\n",
       "      <td>609430422</td>\n",
       "      <td>False</td>\n",
       "      <td>517</td>\n",
       "      <td>1914606.0</td>\n",
       "      <td>Danil</td>\n",
       "      <td>fileset</td>\n",
       "      <td>4086</td>\n",
       "      <td>{'totalVotes': 42, 'hasAlreadyVotedUp': False,...</td>\n",
       "      <td>other</td>\n",
       "    </tr>\n",
       "  </tbody>\n",
       "</table>\n",
       "</div>"
      ],
      "text/plain": [
       "   creatorUserId  datasetId  datasetSize  isCollaborator  downloadCount  \\\n",
       "0        1314380      70947      4043536           False           5506   \n",
       "1         459483      83790    968989653           False              7   \n",
       "2        1227281      38809      5621145           False          14066   \n",
       "3         484516      45286     45177047           False           2573   \n",
       "4        1914606      28335    609430422           False            517   \n",
       "\n",
       "   ownerUserId                   ownerName     type  viewCount  \\\n",
       "0          NaN                      Kaggle  fileset     274306   \n",
       "1     459483.0                  Jason King  fileset        176   \n",
       "2    1227281.0               Mehdi Dagdoug  fileset      80770   \n",
       "3          NaN  Center for Policing Equity  fileset      52192   \n",
       "4    1914606.0                       Danil  fileset       4086   \n",
       "\n",
       "                                          voteButton file_type  \n",
       "0  {'totalVotes': 678, 'hasAlreadyVotedUp': False...       csv  \n",
       "1  {'totalVotes': 2, 'hasAlreadyVotedUp': False, ...     other  \n",
       "2  {'totalVotes': 298, 'hasAlreadyVotedUp': False...       csv  \n",
       "3  {'totalVotes': 282, 'hasAlreadyVotedUp': False...     other  \n",
       "4  {'totalVotes': 42, 'hasAlreadyVotedUp': False,...     other  "
      ]
     },
     "execution_count": 51,
     "metadata": {},
     "output_type": "execute_result"
    }
   ],
   "source": [
    "df.head()"
   ]
  },
  {
   "cell_type": "code",
   "execution_count": 52,
   "metadata": {},
   "outputs": [],
   "source": [
    "df['total_vote'] = df.voteButton.apply(lambda x: x[2:-2]).str.split(',').apply(lambda x: int(x[0].split(':')[-1].strip()))"
   ]
  },
  {
   "cell_type": "code",
   "execution_count": 53,
   "metadata": {},
   "outputs": [
    {
     "data": {
      "text/html": [
       "<div>\n",
       "<style scoped>\n",
       "    .dataframe tbody tr th:only-of-type {\n",
       "        vertical-align: middle;\n",
       "    }\n",
       "\n",
       "    .dataframe tbody tr th {\n",
       "        vertical-align: top;\n",
       "    }\n",
       "\n",
       "    .dataframe thead th {\n",
       "        text-align: right;\n",
       "    }\n",
       "</style>\n",
       "<table border=\"1\" class=\"dataframe\">\n",
       "  <thead>\n",
       "    <tr style=\"text-align: right;\">\n",
       "      <th></th>\n",
       "      <th>creatorUserId</th>\n",
       "      <th>datasetId</th>\n",
       "      <th>datasetSize</th>\n",
       "      <th>isCollaborator</th>\n",
       "      <th>downloadCount</th>\n",
       "      <th>ownerUserId</th>\n",
       "      <th>ownerName</th>\n",
       "      <th>type</th>\n",
       "      <th>viewCount</th>\n",
       "      <th>voteButton</th>\n",
       "      <th>file_type</th>\n",
       "      <th>total_vote</th>\n",
       "    </tr>\n",
       "  </thead>\n",
       "  <tbody>\n",
       "    <tr>\n",
       "      <th>0</th>\n",
       "      <td>1314380</td>\n",
       "      <td>70947</td>\n",
       "      <td>4043536</td>\n",
       "      <td>False</td>\n",
       "      <td>5506</td>\n",
       "      <td>NaN</td>\n",
       "      <td>Kaggle</td>\n",
       "      <td>fileset</td>\n",
       "      <td>274306</td>\n",
       "      <td>{'totalVotes': 678, 'hasAlreadyVotedUp': False...</td>\n",
       "      <td>csv</td>\n",
       "      <td>678</td>\n",
       "    </tr>\n",
       "    <tr>\n",
       "      <th>1</th>\n",
       "      <td>459483</td>\n",
       "      <td>83790</td>\n",
       "      <td>968989653</td>\n",
       "      <td>False</td>\n",
       "      <td>7</td>\n",
       "      <td>459483.0</td>\n",
       "      <td>Jason King</td>\n",
       "      <td>fileset</td>\n",
       "      <td>176</td>\n",
       "      <td>{'totalVotes': 2, 'hasAlreadyVotedUp': False, ...</td>\n",
       "      <td>other</td>\n",
       "      <td>2</td>\n",
       "    </tr>\n",
       "    <tr>\n",
       "      <th>2</th>\n",
       "      <td>1227281</td>\n",
       "      <td>38809</td>\n",
       "      <td>5621145</td>\n",
       "      <td>False</td>\n",
       "      <td>14066</td>\n",
       "      <td>1227281.0</td>\n",
       "      <td>Mehdi Dagdoug</td>\n",
       "      <td>fileset</td>\n",
       "      <td>80770</td>\n",
       "      <td>{'totalVotes': 298, 'hasAlreadyVotedUp': False...</td>\n",
       "      <td>csv</td>\n",
       "      <td>298</td>\n",
       "    </tr>\n",
       "    <tr>\n",
       "      <th>3</th>\n",
       "      <td>484516</td>\n",
       "      <td>45286</td>\n",
       "      <td>45177047</td>\n",
       "      <td>False</td>\n",
       "      <td>2573</td>\n",
       "      <td>NaN</td>\n",
       "      <td>Center for Policing Equity</td>\n",
       "      <td>fileset</td>\n",
       "      <td>52192</td>\n",
       "      <td>{'totalVotes': 282, 'hasAlreadyVotedUp': False...</td>\n",
       "      <td>other</td>\n",
       "      <td>282</td>\n",
       "    </tr>\n",
       "    <tr>\n",
       "      <th>4</th>\n",
       "      <td>1914606</td>\n",
       "      <td>28335</td>\n",
       "      <td>609430422</td>\n",
       "      <td>False</td>\n",
       "      <td>517</td>\n",
       "      <td>1914606.0</td>\n",
       "      <td>Danil</td>\n",
       "      <td>fileset</td>\n",
       "      <td>4086</td>\n",
       "      <td>{'totalVotes': 42, 'hasAlreadyVotedUp': False,...</td>\n",
       "      <td>other</td>\n",
       "      <td>42</td>\n",
       "    </tr>\n",
       "  </tbody>\n",
       "</table>\n",
       "</div>"
      ],
      "text/plain": [
       "   creatorUserId  datasetId  datasetSize  isCollaborator  downloadCount  \\\n",
       "0        1314380      70947      4043536           False           5506   \n",
       "1         459483      83790    968989653           False              7   \n",
       "2        1227281      38809      5621145           False          14066   \n",
       "3         484516      45286     45177047           False           2573   \n",
       "4        1914606      28335    609430422           False            517   \n",
       "\n",
       "   ownerUserId                   ownerName     type  viewCount  \\\n",
       "0          NaN                      Kaggle  fileset     274306   \n",
       "1     459483.0                  Jason King  fileset        176   \n",
       "2    1227281.0               Mehdi Dagdoug  fileset      80770   \n",
       "3          NaN  Center for Policing Equity  fileset      52192   \n",
       "4    1914606.0                       Danil  fileset       4086   \n",
       "\n",
       "                                          voteButton file_type  total_vote  \n",
       "0  {'totalVotes': 678, 'hasAlreadyVotedUp': False...       csv         678  \n",
       "1  {'totalVotes': 2, 'hasAlreadyVotedUp': False, ...     other           2  \n",
       "2  {'totalVotes': 298, 'hasAlreadyVotedUp': False...       csv         298  \n",
       "3  {'totalVotes': 282, 'hasAlreadyVotedUp': False...     other         282  \n",
       "4  {'totalVotes': 42, 'hasAlreadyVotedUp': False,...     other          42  "
      ]
     },
     "execution_count": 53,
     "metadata": {},
     "output_type": "execute_result"
    }
   ],
   "source": [
    "df.head()"
   ]
  },
  {
   "cell_type": "code",
   "execution_count": 54,
   "metadata": {},
   "outputs": [
    {
     "data": {
      "text/html": [
       "<div>\n",
       "<style scoped>\n",
       "    .dataframe tbody tr th:only-of-type {\n",
       "        vertical-align: middle;\n",
       "    }\n",
       "\n",
       "    .dataframe tbody tr th {\n",
       "        vertical-align: top;\n",
       "    }\n",
       "\n",
       "    .dataframe thead th {\n",
       "        text-align: right;\n",
       "    }\n",
       "</style>\n",
       "<table border=\"1\" class=\"dataframe\">\n",
       "  <thead>\n",
       "    <tr style=\"text-align: right;\">\n",
       "      <th></th>\n",
       "      <th>creatorUserId</th>\n",
       "      <th>datasetId</th>\n",
       "      <th>datasetSize</th>\n",
       "      <th>isCollaborator</th>\n",
       "      <th>downloadCount</th>\n",
       "      <th>ownerUserId</th>\n",
       "      <th>ownerName</th>\n",
       "      <th>type</th>\n",
       "      <th>viewCount</th>\n",
       "      <th>file_type</th>\n",
       "      <th>total_vote</th>\n",
       "    </tr>\n",
       "  </thead>\n",
       "  <tbody>\n",
       "    <tr>\n",
       "      <th>0</th>\n",
       "      <td>1314380</td>\n",
       "      <td>70947</td>\n",
       "      <td>4043536</td>\n",
       "      <td>False</td>\n",
       "      <td>5506</td>\n",
       "      <td>NaN</td>\n",
       "      <td>Kaggle</td>\n",
       "      <td>fileset</td>\n",
       "      <td>274306</td>\n",
       "      <td>csv</td>\n",
       "      <td>678</td>\n",
       "    </tr>\n",
       "    <tr>\n",
       "      <th>1</th>\n",
       "      <td>459483</td>\n",
       "      <td>83790</td>\n",
       "      <td>968989653</td>\n",
       "      <td>False</td>\n",
       "      <td>7</td>\n",
       "      <td>459483.0</td>\n",
       "      <td>Jason King</td>\n",
       "      <td>fileset</td>\n",
       "      <td>176</td>\n",
       "      <td>other</td>\n",
       "      <td>2</td>\n",
       "    </tr>\n",
       "    <tr>\n",
       "      <th>2</th>\n",
       "      <td>1227281</td>\n",
       "      <td>38809</td>\n",
       "      <td>5621145</td>\n",
       "      <td>False</td>\n",
       "      <td>14066</td>\n",
       "      <td>1227281.0</td>\n",
       "      <td>Mehdi Dagdoug</td>\n",
       "      <td>fileset</td>\n",
       "      <td>80770</td>\n",
       "      <td>csv</td>\n",
       "      <td>298</td>\n",
       "    </tr>\n",
       "    <tr>\n",
       "      <th>3</th>\n",
       "      <td>484516</td>\n",
       "      <td>45286</td>\n",
       "      <td>45177047</td>\n",
       "      <td>False</td>\n",
       "      <td>2573</td>\n",
       "      <td>NaN</td>\n",
       "      <td>Center for Policing Equity</td>\n",
       "      <td>fileset</td>\n",
       "      <td>52192</td>\n",
       "      <td>other</td>\n",
       "      <td>282</td>\n",
       "    </tr>\n",
       "    <tr>\n",
       "      <th>4</th>\n",
       "      <td>1914606</td>\n",
       "      <td>28335</td>\n",
       "      <td>609430422</td>\n",
       "      <td>False</td>\n",
       "      <td>517</td>\n",
       "      <td>1914606.0</td>\n",
       "      <td>Danil</td>\n",
       "      <td>fileset</td>\n",
       "      <td>4086</td>\n",
       "      <td>other</td>\n",
       "      <td>42</td>\n",
       "    </tr>\n",
       "  </tbody>\n",
       "</table>\n",
       "</div>"
      ],
      "text/plain": [
       "   creatorUserId  datasetId  datasetSize  isCollaborator  downloadCount  \\\n",
       "0        1314380      70947      4043536           False           5506   \n",
       "1         459483      83790    968989653           False              7   \n",
       "2        1227281      38809      5621145           False          14066   \n",
       "3         484516      45286     45177047           False           2573   \n",
       "4        1914606      28335    609430422           False            517   \n",
       "\n",
       "   ownerUserId                   ownerName     type  viewCount file_type  \\\n",
       "0          NaN                      Kaggle  fileset     274306       csv   \n",
       "1     459483.0                  Jason King  fileset        176     other   \n",
       "2    1227281.0               Mehdi Dagdoug  fileset      80770       csv   \n",
       "3          NaN  Center for Policing Equity  fileset      52192     other   \n",
       "4    1914606.0                       Danil  fileset       4086     other   \n",
       "\n",
       "   total_vote  \n",
       "0         678  \n",
       "1           2  \n",
       "2         298  \n",
       "3         282  \n",
       "4          42  "
      ]
     },
     "execution_count": 54,
     "metadata": {},
     "output_type": "execute_result"
    }
   ],
   "source": [
    "df = df.drop('voteButton', axis = 1)\n",
    "df.head()"
   ]
  },
  {
   "cell_type": "code",
   "execution_count": 55,
   "metadata": {},
   "outputs": [
    {
     "data": {
      "text/plain": [
       "(13018, 10)"
      ]
     },
     "execution_count": 55,
     "metadata": {},
     "output_type": "execute_result"
    }
   ],
   "source": [
    "df = df.drop('isCollaborator', axis = 1)\n",
    "df.shape"
   ]
  },
  {
   "cell_type": "code",
   "execution_count": 56,
   "metadata": {},
   "outputs": [
    {
     "data": {
      "text/html": [
       "<div>\n",
       "<style scoped>\n",
       "    .dataframe tbody tr th:only-of-type {\n",
       "        vertical-align: middle;\n",
       "    }\n",
       "\n",
       "    .dataframe tbody tr th {\n",
       "        vertical-align: top;\n",
       "    }\n",
       "\n",
       "    .dataframe thead th {\n",
       "        text-align: right;\n",
       "    }\n",
       "</style>\n",
       "<table border=\"1\" class=\"dataframe\">\n",
       "  <thead>\n",
       "    <tr style=\"text-align: right;\">\n",
       "      <th></th>\n",
       "      <th>creatorUserId</th>\n",
       "      <th>datasetId</th>\n",
       "      <th>datasetSize</th>\n",
       "      <th>downloadCount</th>\n",
       "      <th>ownerUserId</th>\n",
       "      <th>ownerName</th>\n",
       "      <th>type</th>\n",
       "      <th>viewCount</th>\n",
       "      <th>file_type</th>\n",
       "      <th>total_vote</th>\n",
       "    </tr>\n",
       "  </thead>\n",
       "  <tbody>\n",
       "    <tr>\n",
       "      <th>0</th>\n",
       "      <td>1314380</td>\n",
       "      <td>70947</td>\n",
       "      <td>4043536</td>\n",
       "      <td>5506</td>\n",
       "      <td>NaN</td>\n",
       "      <td>Kaggle</td>\n",
       "      <td>fileset</td>\n",
       "      <td>274306</td>\n",
       "      <td>csv</td>\n",
       "      <td>678</td>\n",
       "    </tr>\n",
       "    <tr>\n",
       "      <th>1</th>\n",
       "      <td>459483</td>\n",
       "      <td>83790</td>\n",
       "      <td>968989653</td>\n",
       "      <td>7</td>\n",
       "      <td>459483.0</td>\n",
       "      <td>Jason King</td>\n",
       "      <td>fileset</td>\n",
       "      <td>176</td>\n",
       "      <td>other</td>\n",
       "      <td>2</td>\n",
       "    </tr>\n",
       "    <tr>\n",
       "      <th>2</th>\n",
       "      <td>1227281</td>\n",
       "      <td>38809</td>\n",
       "      <td>5621145</td>\n",
       "      <td>14066</td>\n",
       "      <td>1227281.0</td>\n",
       "      <td>Mehdi Dagdoug</td>\n",
       "      <td>fileset</td>\n",
       "      <td>80770</td>\n",
       "      <td>csv</td>\n",
       "      <td>298</td>\n",
       "    </tr>\n",
       "    <tr>\n",
       "      <th>3</th>\n",
       "      <td>484516</td>\n",
       "      <td>45286</td>\n",
       "      <td>45177047</td>\n",
       "      <td>2573</td>\n",
       "      <td>NaN</td>\n",
       "      <td>Center for Policing Equity</td>\n",
       "      <td>fileset</td>\n",
       "      <td>52192</td>\n",
       "      <td>other</td>\n",
       "      <td>282</td>\n",
       "    </tr>\n",
       "    <tr>\n",
       "      <th>4</th>\n",
       "      <td>1914606</td>\n",
       "      <td>28335</td>\n",
       "      <td>609430422</td>\n",
       "      <td>517</td>\n",
       "      <td>1914606.0</td>\n",
       "      <td>Danil</td>\n",
       "      <td>fileset</td>\n",
       "      <td>4086</td>\n",
       "      <td>other</td>\n",
       "      <td>42</td>\n",
       "    </tr>\n",
       "  </tbody>\n",
       "</table>\n",
       "</div>"
      ],
      "text/plain": [
       "   creatorUserId  datasetId  datasetSize  downloadCount  ownerUserId  \\\n",
       "0        1314380      70947      4043536           5506          NaN   \n",
       "1         459483      83790    968989653              7     459483.0   \n",
       "2        1227281      38809      5621145          14066    1227281.0   \n",
       "3         484516      45286     45177047           2573          NaN   \n",
       "4        1914606      28335    609430422            517    1914606.0   \n",
       "\n",
       "                    ownerName     type  viewCount file_type  total_vote  \n",
       "0                      Kaggle  fileset     274306       csv         678  \n",
       "1                  Jason King  fileset        176     other           2  \n",
       "2               Mehdi Dagdoug  fileset      80770       csv         298  \n",
       "3  Center for Policing Equity  fileset      52192     other         282  \n",
       "4                       Danil  fileset       4086     other          42  "
      ]
     },
     "execution_count": 56,
     "metadata": {},
     "output_type": "execute_result"
    }
   ],
   "source": [
    "df.head()"
   ]
  },
  {
   "cell_type": "code",
   "execution_count": 57,
   "metadata": {},
   "outputs": [
    {
     "data": {
      "image/png": "[encoded data removed]",
      "text/plain": [
       "<Figure size 432x288 with 9 Axes>"
      ]
     },
     "metadata": {
      "needs_background": "light"
     },
     "output_type": "display_data"
    }
   ],
   "source": [
    "df.hist();"
   ]
  },
  {
   "cell_type": "code",
   "execution_count": 58,
   "metadata": {},
   "outputs": [],
   "source": [
    "df_fileset = df[df.type == 'fileset']"
   ]
  },
  {
   "cell_type": "code",
   "execution_count": 59,
   "metadata": {},
   "outputs": [
    {
     "data": {
      "text/plain": [
       "(12955, 10)"
      ]
     },
     "execution_count": 59,
     "metadata": {},
     "output_type": "execute_result"
    }
   ],
   "source": [
    "df_fileset.shape\n"
   ]
  },
  {
   "cell_type": "code",
   "execution_count": 60,
   "metadata": {},
   "outputs": [
    {
     "data": {
      "text/html": [
       "<div>\n",
       "<style scoped>\n",
       "    .dataframe tbody tr th:only-of-type {\n",
       "        vertical-align: middle;\n",
       "    }\n",
       "\n",
       "    .dataframe tbody tr th {\n",
       "        vertical-align: top;\n",
       "    }\n",
       "\n",
       "    .dataframe thead th {\n",
       "        text-align: right;\n",
       "    }\n",
       "</style>\n",
       "<table border=\"1\" class=\"dataframe\">\n",
       "  <thead>\n",
       "    <tr style=\"text-align: right;\">\n",
       "      <th></th>\n",
       "      <th>creatorUserId</th>\n",
       "      <th>datasetId</th>\n",
       "      <th>datasetSize</th>\n",
       "      <th>downloadCount</th>\n",
       "      <th>ownerUserId</th>\n",
       "      <th>ownerName</th>\n",
       "      <th>viewCount</th>\n",
       "      <th>file_type</th>\n",
       "      <th>total_vote</th>\n",
       "    </tr>\n",
       "  </thead>\n",
       "  <tbody>\n",
       "    <tr>\n",
       "      <th>0</th>\n",
       "      <td>1314380</td>\n",
       "      <td>70947</td>\n",
       "      <td>4043536</td>\n",
       "      <td>5506</td>\n",
       "      <td>NaN</td>\n",
       "      <td>Kaggle</td>\n",
       "      <td>274306</td>\n",
       "      <td>csv</td>\n",
       "      <td>678</td>\n",
       "    </tr>\n",
       "    <tr>\n",
       "      <th>1</th>\n",
       "      <td>459483</td>\n",
       "      <td>83790</td>\n",
       "      <td>968989653</td>\n",
       "      <td>7</td>\n",
       "      <td>459483.0</td>\n",
       "      <td>Jason King</td>\n",
       "      <td>176</td>\n",
       "      <td>other</td>\n",
       "      <td>2</td>\n",
       "    </tr>\n",
       "    <tr>\n",
       "      <th>2</th>\n",
       "      <td>1227281</td>\n",
       "      <td>38809</td>\n",
       "      <td>5621145</td>\n",
       "      <td>14066</td>\n",
       "      <td>1227281.0</td>\n",
       "      <td>Mehdi Dagdoug</td>\n",
       "      <td>80770</td>\n",
       "      <td>csv</td>\n",
       "      <td>298</td>\n",
       "    </tr>\n",
       "    <tr>\n",
       "      <th>3</th>\n",
       "      <td>484516</td>\n",
       "      <td>45286</td>\n",
       "      <td>45177047</td>\n",
       "      <td>2573</td>\n",
       "      <td>NaN</td>\n",
       "      <td>Center for Policing Equity</td>\n",
       "      <td>52192</td>\n",
       "      <td>other</td>\n",
       "      <td>282</td>\n",
       "    </tr>\n",
       "    <tr>\n",
       "      <th>4</th>\n",
       "      <td>1914606</td>\n",
       "      <td>28335</td>\n",
       "      <td>609430422</td>\n",
       "      <td>517</td>\n",
       "      <td>1914606.0</td>\n",
       "      <td>Danil</td>\n",
       "      <td>4086</td>\n",
       "      <td>other</td>\n",
       "      <td>42</td>\n",
       "    </tr>\n",
       "  </tbody>\n",
       "</table>\n",
       "</div>"
      ],
      "text/plain": [
       "   creatorUserId  datasetId  datasetSize  downloadCount  ownerUserId  \\\n",
       "0        1314380      70947      4043536           5506          NaN   \n",
       "1         459483      83790    968989653              7     459483.0   \n",
       "2        1227281      38809      5621145          14066    1227281.0   \n",
       "3         484516      45286     45177047           2573          NaN   \n",
       "4        1914606      28335    609430422            517    1914606.0   \n",
       "\n",
       "                    ownerName  viewCount file_type  total_vote  \n",
       "0                      Kaggle     274306       csv         678  \n",
       "1                  Jason King        176     other           2  \n",
       "2               Mehdi Dagdoug      80770       csv         298  \n",
       "3  Center for Policing Equity      52192     other         282  \n",
       "4                       Danil       4086     other          42  "
      ]
     },
     "execution_count": 60,
     "metadata": {},
     "output_type": "execute_result"
    }
   ],
   "source": [
    "df_fileset = df_fileset.drop('type', axis = 1)\n",
    "df_fileset.head()"
   ]
  },
  {
   "cell_type": "code",
   "execution_count": 84,
   "metadata": {},
   "outputs": [
    {
     "data": {
      "text/plain": [
       "<matplotlib.axes._subplots.AxesSubplot at 0x7fc0a271d9e8>"
      ]
     },
     "execution_count": 84,
     "metadata": {},
     "output_type": "execute_result"
    },
    {
     "data": {
      "image/png": "[encoded data removed]",
      "text/plain": [
       "<Figure size 432x288 with 2 Axes>"
      ]
     },
     "metadata": {
      "needs_background": "light"
     },
     "output_type": "display_data"
    }
   ],
   "source": [
    "# correlation fo datasetSize, downloadCount, viewCount and total_vote\n",
    "sns.heatmap(df_fileset[['datasetSize', 'downloadCount', 'viewCount', 'total_vote']].corr(), annot=True)"
   ]
  },
  {
   "cell_type": "code",
   "execution_count": 123,
   "metadata": {},
   "outputs": [
    {
     "data": {
      "text/plain": [
       "<matplotlib.axes._subplots.AxesSubplot at 0x7fc08b5cd518>"
      ]
     },
     "execution_count": 123,
     "metadata": {},
     "output_type": "execute_result"
    },
    {
     "data": {
      "image/png": "[encoded data removed]",
      "text/plain": [
       "<Figure size 432x288 with 1 Axes>"
      ]
     },
     "metadata": {
      "needs_background": "light"
     },
     "output_type": "display_data"
    }
   ],
   "source": [
    "# Top 20 owner having maximum number of dataset\n",
    "top_20_owner = df_fileset.ownerName.value_counts()[:20]\n",
    "top_20_owner.plot(kind = 'bar', title = 'Top 20 owner having maximum number of dataset')"
   ]
  },
  {
   "cell_type": "code",
   "execution_count": 121,
   "metadata": {},
   "outputs": [
    {
     "data": {
      "text/plain": [
       "<matplotlib.axes._subplots.AxesSubplot at 0x7fc08b642630>"
      ]
     },
     "execution_count": 121,
     "metadata": {},
     "output_type": "execute_result"
    },
    {
     "data": {
      "image/png": "[encoded data removed]",
      "text/plain": [
       "<Figure size 432x288 with 1 Axes>"
      ]
     },
     "metadata": {
      "needs_background": "light"
     },
     "output_type": "display_data"
    }
   ],
   "source": [
    "# Top 20 downloaded dataset owner\n",
    "top_20_downloads = df_fileset[['ownerName', 'downloadCount']].sort_values(by = 'downloadCount', ascending = False)[:20]\n",
    "top_20_downloads.set_index('ownerName').plot(kind = 'bar', title = 'Top 20 downloaded dataset owner')"
   ]
  },
  {
   "cell_type": "code",
   "execution_count": 122,
   "metadata": {},
   "outputs": [
    {
     "data": {
      "text/plain": [
       "<matplotlib.axes._subplots.AxesSubplot at 0x7fc08b6323c8>"
      ]
     },
     "execution_count": 122,
     "metadata": {},
     "output_type": "execute_result"
    },
    {
     "data": {
      "image/png": "[encoded data removed]",
      "text/plain": [
       "<Figure size 432x288 with 1 Axes>"
      ]
     },
     "metadata": {
      "needs_background": "light"
     },
     "output_type": "display_data"
    }
   ],
   "source": [
    "# Top 20 viewed dataset owner\n",
    "top_20_downloads = df_fileset[['ownerName', 'viewCount']].sort_values(by = 'viewCount', ascending = False)[:20]\n",
    "top_20_downloads.set_index('ownerName').plot(kind = 'bar', title = 'Top 20 viewed dataset owner')"
   ]
  },
  {
   "cell_type": "code",
   "execution_count": 120,
   "metadata": {},
   "outputs": [
    {
     "data": {
      "text/plain": [
       "<matplotlib.axes._subplots.AxesSubplot at 0x7fc08b7189b0>"
      ]
     },
     "execution_count": 120,
     "metadata": {},
     "output_type": "execute_result"
    },
    {
     "data": {
      "image/png": "[encoded data removed]",
      "text/plain": [
       "<Figure size 432x288 with 1 Axes>"
      ]
     },
     "metadata": {
      "needs_background": "light"
     },
     "output_type": "display_data"
    }
   ],
   "source": [
    "# Top 20 voted dataset owner\n",
    "top_20_downloads = df_fileset[['ownerName', 'total_vote']].sort_values(by = 'total_vote', ascending = False)[:20]\n",
    "top_20_downloads.set_index('ownerName').plot(kind = 'bar', title = 'Top 20 voted dataset owner')"
   ]
  },
  {
   "cell_type": "code",
   "execution_count": 127,
   "metadata": {},
   "outputs": [
    {
     "data": {
      "text/plain": [
       "<matplotlib.axes._subplots.AxesSubplot at 0x7fc08b4937b8>"
      ]
     },
     "execution_count": 127,
     "metadata": {},
     "output_type": "execute_result"
    },
    {
     "data": {
      "image/png": "[encoded data removed]",
      "text/plain": [
       "<Figure size 432x288 with 1 Axes>"
      ]
     },
     "metadata": {
      "needs_background": "light"
     },
     "output_type": "display_data"
    }
   ],
   "source": [
    "# contribution to dataset with total size\n",
    "df_fileset.groupby('ownerName').sum()['datasetSize'].sort_values(ascending = False)[:20].plot(kind = 'bar')"
   ]
  },
  {
   "cell_type": "code",
   "execution_count": 139,
   "metadata": {},
   "outputs": [
    {
     "data": {
      "text/plain": [
       "<matplotlib.axes._subplots.AxesSubplot at 0x7fc08b36f2b0>"
      ]
     },
     "execution_count": 139,
     "metadata": {},
     "output_type": "execute_result"
    },
    {
     "data": {
      "image/png": "[encoded data removed]",
      "text/plain": [
       "<Figure size 432x288 with 1 Axes>"
      ]
     },
     "metadata": {
      "needs_background": "light"
     },
     "output_type": "display_data"
    }
   ],
   "source": [
    "# distribution of file types of dataset\n",
    "df_fileset[['file_type', 'ownerName']].groupby('file_type').count().rename(columns = {'ownerName': 'count'}).plot(kind = 'bar')"
   ]
  },
  {
   "cell_type": "code",
   "execution_count": null,
   "metadata": {},
   "outputs": [],
   "source": []
  }
 ],
 "metadata": {
  "kernelspec": {
   "display_name": "Python 3",
   "language": "python",
   "name": "python3"
  },
  "language_info": {
   "codemirror_mode": {
    "name": "ipython",
    "version": 3
   },
   "file_extension": ".py",
   "mimetype": "text/x-python",
   "name": "python",
   "nbconvert_exporter": "python",
   "pygments_lexer": "ipython3",
   "version": "3.7.0"
  }
 },
 "nbformat": 4,
 "nbformat_minor": 2
}
